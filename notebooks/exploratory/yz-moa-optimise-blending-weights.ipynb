{
 "cells": [
  {
   "cell_type": "markdown",
   "source": [
    "# Meta\n",
    "\n",
    "Title: Optimise Blending Weights with Bonus\n",
    "\n",
    "Author: Yirun Zhang\n",
    "\n",
    "[Source code](https://www.kaggle.com/gogo827jz/optimise-blending-weights-with-bonus-0)"
   ],
   "metadata": {}
  },
  {
   "cell_type": "markdown",
   "source": [
    "# Model Blending Weights Optimisation\n",
    "\n",
    "This demo shows how to use [scipy.optimize][1] to optimise your model blending weights using your models' OOFs.\n",
    "\n",
    "**UPDATE:** Getting rid of the penalty term by using 'SLSQP' solver with a relatively small tolerance and Jacobian matrix.\n",
    "\n",
    "**UPDATE:** Calculate the gradients with paper and pencil to accelerate the optimisation...\n",
    "\n",
    "**UPDATE:** Add numba gradient function\n",
    "\n",
    "[1]: https://docs.scipy.org/doc/scipy/reference/optimize.html"
   ],
   "metadata": {
    "papermill": {
     "duration": 0.016665,
     "end_time": "2020-11-08T17:01:32.976725",
     "exception": false,
     "start_time": "2020-11-08T17:01:32.960060",
     "status": "completed"
    },
    "tags": []
   }
  },
  {
   "cell_type": "code",
   "execution_count": 1,
   "source": [
    "# !pip install autograd --quiet"
   ],
   "outputs": [],
   "metadata": {
    "execution": {
     "iopub.execute_input": "2020-11-08T17:01:33.009596Z",
     "iopub.status.busy": "2020-11-08T17:01:33.008708Z",
     "iopub.status.idle": "2020-11-08T17:01:33.011931Z",
     "shell.execute_reply": "2020-11-08T17:01:33.011300Z"
    },
    "papermill": {
     "duration": 0.021417,
     "end_time": "2020-11-08T17:01:33.012047",
     "exception": false,
     "start_time": "2020-11-08T17:01:32.990630",
     "status": "completed"
    },
    "tags": []
   }
  },
  {
   "cell_type": "code",
   "execution_count": 2,
   "source": [
    "import datetime\n",
    "import pandas as pd\n",
    "from time import time\n",
    "# from autograd import grad\n",
    "# import autograd.numpy as np\n",
    "import numpy as np\n",
    "from numba import njit\n",
    "from scipy.optimize import minimize, fsolve"
   ],
   "outputs": [],
   "metadata": {
    "_cell_guid": "b1076dfc-b9ad-4769-8c92-a6c4dae69d19",
    "_uuid": "8f2839f25d086af736a60e9eeb907d3b93b6e0e5",
    "execution": {
     "iopub.execute_input": "2020-11-08T17:01:33.046476Z",
     "iopub.status.busy": "2020-11-08T17:01:33.045798Z",
     "iopub.status.idle": "2020-11-08T17:01:34.404645Z",
     "shell.execute_reply": "2020-11-08T17:01:34.403691Z"
    },
    "papermill": {
     "duration": 1.377745,
     "end_time": "2020-11-08T17:01:34.404822",
     "exception": false,
     "start_time": "2020-11-08T17:01:33.027077",
     "status": "completed"
    },
    "tags": []
   }
  },
  {
   "cell_type": "markdown",
   "source": [
    "# Objective Function and Gradients\n",
    "\n",
    "$$\n",
    "F = -\\frac{1}{NM}\\sum_{m=1}^{M}\\sum_{i=1}^{N}\\left[ y_{i,m}{\\rm log}\\left( \\sum_{k=1}^{K}w_{k}\\hat{y}_{i,m,k} \\right) + \\left( 1 - y_{i,m} \\right) {\\rm log}\\left( 1 - \\sum_{k=1}^{K}w_{k}\\hat{y}_{i,m,k} \\right) \\right],\n",
    "$$\n",
    "\n",
    "$$\n",
    "\\frac{\\partial F}{\\partial w_{k}} = -\\frac{1}{NM}\\sum_{m=1}^{M}\\sum_{i=1}^{N}\\left[ \\frac{-y_{i,m}\\hat{y}_{i,m,k}+\\hat{y}_{i,m,k}^{2}w_{k}+\\hat{y}_{i,m,k}\\sum_{j=1, j\\neq k}^{K}\\left( w_{j}\\hat{y}_{i,m,j}\\right)}{\\hat{y}_{i,m,k}^{2}w_{k}^{2}+2\\hat{y}_{i,m,k}\\sum_{j=1, j\\neq k}^{K}\\left( w_{j}\\hat{y}_{i,m,j}\\right)w_{k}-\\hat{y}_{i,m,k}w_{k}+\\left(\\sum_{j=1, j\\neq k}^{K}\\left( w_{j}\\hat{y}_{i,m,j}\\right)\\right)^{2}-\\sum_{j=1, j\\neq k}^{K}\\left( w_{j}\\hat{y}_{i,m,j}\\right)} \\right], \\quad k = 1, ..., K.\n",
    "$$"
   ],
   "metadata": {
    "papermill": {
     "duration": 0.015006,
     "end_time": "2020-11-08T17:01:34.438679",
     "exception": false,
     "start_time": "2020-11-08T17:01:34.423673",
     "status": "completed"
    },
    "tags": []
   }
  },
  {
   "cell_type": "code",
   "execution_count": 3,
   "source": [
    "# CPMP's logloss from https://www.kaggle.com/c/lish-moa/discussion/183010\n",
    "def log_loss_numpy(y_pred):\n",
    "    y_true_ravel = np.asarray(y_true).ravel()\n",
    "    y_pred = np.asarray(y_pred).ravel()\n",
    "    y_pred = np.clip(y_pred, 1e-15, 1 - 1e-15)\n",
    "    loss = np.where(y_true_ravel == 1, - np.log(y_pred), - np.log(1 - y_pred))\n",
    "    return loss.mean()\n",
    "\n",
    "def func_numpy_metric(weights):\n",
    "    oof_blend = np.tensordot(weights, oof, axes = ((0), (0)))\n",
    "    return log_loss_numpy(oof_blend)\n",
    "\n",
    "def grad_func(weights):\n",
    "    oof_clip = np.clip(oof, 1e-15, 1 - 1e-15)\n",
    "    gradients = np.zeros(oof.shape[0])\n",
    "    for i in range(oof.shape[0]):\n",
    "        a, b, c = y_true, oof_clip[i], np.zeros((oof.shape[1], oof.shape[2]))\n",
    "        for j in range(oof.shape[0]):\n",
    "            if j != i:\n",
    "                c += weights[j] * oof_clip[j]\n",
    "        gradients[i] = -np.mean((-a*b+(b**2)*weights[i]+b*c)/((b**2)*(weights[i]**2)+2*b*c*weights[i]-b*weights[i]+(c**2)-c))\n",
    "    return gradients\n",
    "\n",
    "@njit\n",
    "def grad_func_jit(weights):\n",
    "    oof_clip = np.minimum(1 - 1e-15, np.maximum(oof, 1e-15))\n",
    "    gradients = np.zeros(oof.shape[0])\n",
    "    for i in range(oof.shape[0]):\n",
    "        a, b, c = y_true, oof_clip[i], np.zeros((oof.shape[1], oof.shape[2]))\n",
    "        for j in range(oof.shape[0]):\n",
    "            if j != i:\n",
    "                c += weights[j] * oof_clip[j]\n",
    "        gradients[i] = -np.mean((-a*b+(b**2)*weights[i]+b*c)/((b**2)*(weights[i]**2)+2*b*c*weights[i]-b*weights[i]+(c**2)-c))\n",
    "    return gradients"
   ],
   "outputs": [],
   "metadata": {
    "execution": {
     "iopub.execute_input": "2020-11-08T17:01:34.499430Z",
     "iopub.status.busy": "2020-11-08T17:01:34.496026Z",
     "iopub.status.idle": "2020-11-08T17:01:34.503037Z",
     "shell.execute_reply": "2020-11-08T17:01:34.503611Z"
    },
    "papermill": {
     "duration": 0.050464,
     "end_time": "2020-11-08T17:01:34.503777",
     "exception": false,
     "start_time": "2020-11-08T17:01:34.453313",
     "status": "completed"
    },
    "tags": []
   }
  },
  {
   "cell_type": "markdown",
   "source": [
    "# Model OOF Scores\n",
    "\n",
    "Here are my oof scores. You may use your own oof scores."
   ],
   "metadata": {
    "papermill": {
     "duration": 0.01525,
     "end_time": "2020-11-08T17:01:34.536649",
     "exception": false,
     "start_time": "2020-11-08T17:01:34.521399",
     "status": "completed"
    },
    "tags": []
   }
  },
  {
   "cell_type": "code",
   "execution_count": 4,
   "source": [
    "y_true = pd.read_csv('../input/lish-moa/train_targets_scored.csv', index_col = 'sig_id').values\n",
    "\n",
    "oof_dict = {'Model 1': '../input/moa-oof-demo/oof1.npy', \n",
    "            'Model 2': '../input/moa-oof-demo/oof2.npy', \n",
    "            'Model 3': '../input/moa-oof-demo/oof3.npy'\n",
    "           }\n",
    "\n",
    "oof = np.zeros((len(oof_dict), y_true.shape[0], y_true.shape[1]))\n",
    "for i in range(oof.shape[0]):\n",
    "    oof[i] = np.load(list(oof_dict.values())[i])"
   ],
   "outputs": [],
   "metadata": {
    "execution": {
     "iopub.execute_input": "2020-11-08T17:01:34.576799Z",
     "iopub.status.busy": "2020-11-08T17:01:34.575814Z",
     "iopub.status.idle": "2020-11-08T17:01:35.281928Z",
     "shell.execute_reply": "2020-11-08T17:01:35.281302Z"
    },
    "papermill": {
     "duration": 0.730989,
     "end_time": "2020-11-08T17:01:35.282078",
     "exception": false,
     "start_time": "2020-11-08T17:01:34.551089",
     "status": "completed"
    },
    "tags": []
   }
  },
  {
   "cell_type": "code",
   "execution_count": 5,
   "source": [
    "%%time\n",
    "\n",
    "log_loss_scores = {}\n",
    "for n, key in enumerate(oof_dict.keys()):\n",
    "    score_oof = log_loss_numpy(oof[n])\n",
    "    log_loss_scores[key] = score_oof\n",
    "    print(f'{key} CV:\\t', score_oof)\n",
    "print('-' * 50)"
   ],
   "outputs": [
    {
     "output_type": "stream",
     "name": "stdout",
     "text": [
      "Model 1 CV:\t 0.015347833625106137\n",
      "Model 2 CV:\t 0.015271737693837504\n",
      "Model 3 CV:\t 0.015401898519997256\n",
      "--------------------------------------------------\n",
      "CPU times: user 654 ms, sys: 181 ms, total: 834 ms\n",
      "Wall time: 834 ms\n"
     ]
    }
   ],
   "metadata": {
    "execution": {
     "iopub.execute_input": "2020-11-08T17:01:35.318017Z",
     "iopub.status.busy": "2020-11-08T17:01:35.317103Z",
     "iopub.status.idle": "2020-11-08T17:01:36.155637Z",
     "shell.execute_reply": "2020-11-08T17:01:36.154976Z"
    },
    "papermill": {
     "duration": 0.858508,
     "end_time": "2020-11-08T17:01:36.155777",
     "exception": false,
     "start_time": "2020-11-08T17:01:35.297269",
     "status": "completed"
    },
    "tags": []
   }
  },
  {
   "cell_type": "markdown",
   "source": [
    "# Test Numba Gradient Function"
   ],
   "metadata": {
    "papermill": {
     "duration": 0.016144,
     "end_time": "2020-11-08T17:01:36.188609",
     "exception": false,
     "start_time": "2020-11-08T17:01:36.172465",
     "status": "completed"
    },
    "tags": []
   }
  },
  {
   "cell_type": "code",
   "execution_count": 6,
   "source": [
    "test_weights = np.array([1 / oof.shape[0]] * oof.shape[0])"
   ],
   "outputs": [],
   "metadata": {
    "execution": {
     "iopub.execute_input": "2020-11-08T17:01:36.227036Z",
     "iopub.status.busy": "2020-11-08T17:01:36.226285Z",
     "iopub.status.idle": "2020-11-08T17:01:36.229053Z",
     "shell.execute_reply": "2020-11-08T17:01:36.228560Z"
    },
    "papermill": {
     "duration": 0.024073,
     "end_time": "2020-11-08T17:01:36.229154",
     "exception": false,
     "start_time": "2020-11-08T17:01:36.205081",
     "status": "completed"
    },
    "tags": []
   }
  },
  {
   "cell_type": "code",
   "execution_count": 7,
   "source": [
    "%timeit -r 10 grad_func(test_weights)"
   ],
   "outputs": [
    {
     "output_type": "stream",
     "name": "stdout",
     "text": [
      "791 ms ± 19.2 ms per loop (mean ± std. dev. of 10 runs, 1 loop each)\n"
     ]
    }
   ],
   "metadata": {
    "execution": {
     "iopub.execute_input": "2020-11-08T17:01:36.268372Z",
     "iopub.status.busy": "2020-11-08T17:01:36.267672Z",
     "iopub.status.idle": "2020-11-08T17:01:45.005058Z",
     "shell.execute_reply": "2020-11-08T17:01:45.004424Z"
    },
    "papermill": {
     "duration": 8.759455,
     "end_time": "2020-11-08T17:01:45.005190",
     "exception": false,
     "start_time": "2020-11-08T17:01:36.245735",
     "status": "completed"
    },
    "tags": []
   }
  },
  {
   "cell_type": "code",
   "execution_count": 8,
   "source": [
    "%timeit -r 10 grad_func_jit(test_weights)"
   ],
   "outputs": [
    {
     "output_type": "stream",
     "name": "stdout",
     "text": [
      "539 ms ± 9.21 ms per loop (mean ± std. dev. of 10 runs, 1 loop each)\n"
     ]
    }
   ],
   "metadata": {
    "execution": {
     "iopub.execute_input": "2020-11-08T17:01:45.045884Z",
     "iopub.status.busy": "2020-11-08T17:01:45.045177Z",
     "iopub.status.idle": "2020-11-08T17:01:52.136923Z",
     "shell.execute_reply": "2020-11-08T17:01:52.136262Z"
    },
    "papermill": {
     "duration": 7.114546,
     "end_time": "2020-11-08T17:01:52.137063",
     "exception": false,
     "start_time": "2020-11-08T17:01:45.022517",
     "status": "completed"
    },
    "tags": []
   }
  },
  {
   "cell_type": "markdown",
   "source": [
    "# Blending Weights Optimisation\n",
    "\n",
    "Providing jac is optional because scipy uses its own 2-point finite difference estimation for the Jacobian matrix."
   ],
   "metadata": {
    "papermill": {
     "duration": 0.017905,
     "end_time": "2020-11-08T17:01:52.172438",
     "exception": false,
     "start_time": "2020-11-08T17:01:52.154533",
     "status": "completed"
    },
    "tags": []
   }
  },
  {
   "cell_type": "code",
   "execution_count": 9,
   "source": [
    "tol = 1e-10\n",
    "init_guess = [1 / oof.shape[0]] * oof.shape[0]\n",
    "bnds = [(0, 1) for _ in range(oof.shape[0])]\n",
    "cons = {'type': 'eq', \n",
    "        'fun': lambda x: np.sum(x) - 1, \n",
    "        'jac': lambda x: [1] * len(x)}\n",
    "\n",
    "print('Inital Blend OOF:', func_numpy_metric(init_guess))\n",
    "start_time = time()\n",
    "res_scipy = minimize(fun = func_numpy_metric, \n",
    "                     x0 = init_guess, \n",
    "                     method = 'SLSQP', \n",
    "                     jac = grad_func_jit, # grad_func \n",
    "                     bounds = bnds, \n",
    "                     constraints = cons, \n",
    "                     tol = tol)\n",
    "print(f'[{str(datetime.timedelta(seconds = time() - start_time))[2:7]}] Optimised Blend OOF:', res_scipy.fun)\n",
    "print('Optimised Weights:', res_scipy.x)"
   ],
   "outputs": [
    {
     "output_type": "stream",
     "name": "stdout",
     "text": [
      "Inital Blend OOF: 0.015035763097305546\n",
      "[00:15] Optimised Blend OOF: 0.015019016150854788\n",
      "Optimised Weights: [0.38920215 0.54298912 0.06780872]\n"
     ]
    }
   ],
   "metadata": {
    "execution": {
     "iopub.execute_input": "2020-11-08T17:01:52.226485Z",
     "iopub.status.busy": "2020-11-08T17:01:52.225643Z",
     "iopub.status.idle": "2020-11-08T17:02:08.509319Z",
     "shell.execute_reply": "2020-11-08T17:02:08.508757Z"
    },
    "papermill": {
     "duration": 16.319289,
     "end_time": "2020-11-08T17:02:08.509439",
     "exception": false,
     "start_time": "2020-11-08T17:01:52.190150",
     "status": "completed"
    },
    "tags": []
   }
  },
  {
   "cell_type": "code",
   "execution_count": 10,
   "source": [
    "print('Check the sum of all weights:', np.sum(res_scipy.x))\n",
    "if np.sum(res_scipy.x) - 1 <= tol:\n",
    "    print('Great! The sum of all weights equals to 1!')\n",
    "else:\n",
    "    print('Manual adjustion is needed to modify the weights.')"
   ],
   "outputs": [
    {
     "output_type": "stream",
     "name": "stdout",
     "text": [
      "Check the sum of all weights: 1.0\n",
      "Great! The sum of all weights equals to 1!\n"
     ]
    }
   ],
   "metadata": {
    "execution": {
     "iopub.execute_input": "2020-11-08T17:02:08.551548Z",
     "iopub.status.busy": "2020-11-08T17:02:08.550925Z",
     "iopub.status.idle": "2020-11-08T17:02:08.554849Z",
     "shell.execute_reply": "2020-11-08T17:02:08.554280Z"
    },
    "papermill": {
     "duration": 0.027235,
     "end_time": "2020-11-08T17:02:08.554986",
     "exception": false,
     "start_time": "2020-11-08T17:02:08.527751",
     "status": "completed"
    },
    "tags": []
   }
  },
  {
   "cell_type": "markdown",
   "source": [
    "# Bonus (Lagrange Multiplier)\n",
    "\n",
    "Congratulations! You have found this bonus. In this section, I optimise the blending weights in a more mathematical way using Lagrange Multiplier method. The following equation is the minimisation problem that we want to solve:\n",
    "\n",
    "$$\n",
    "\\begin{align}\n",
    "\\min_{w_{1}, w_{2},..., w_{K}} \\quad &-\\frac{1}{NM}\\sum_{m=1}^{M}\\sum_{i=1}^{N}\\left[ y_{i,m}{\\rm log}\\left( \\sum_{k=1}^{K}w_{k}\\hat{y}_{i,m,k} \\right) + \\left( 1 - y_{i,m} \\right) {\\rm log}\\left( 1 - \\sum_{k=1}^{K}w_{k}\\hat{y}_{i,m,k} \\right) \\right], \\qquad {\\rm (1)} \\\\\n",
    "s.t. \\quad &\\sum_{k=1}^{k}w_{k} = 1, \\qquad {\\rm (1a)} \\\\\n",
    "& 0 \\leqslant w_{k} \\leqslant 1, \\quad k = 1, ..., K, \\qquad {\\rm (1b)}\n",
    "\\end{align}\n",
    "$$\n",
    "\n",
    "where $N$ is the number of 'sigid' observations in the test data $(i = 1, ...,N)$;\n",
    "\n",
    "$M$ is the number of scored MoA targets $(m = 1, ...,M)$;\n",
    "\n",
    "$w_{k}$ is the blending weight for the $k$th model's prediction results $(k = 1, ...,K)$; \n",
    "\n",
    "$\\hat{y}_{i,m,k}$ is the $k$th model's predicted probability of the $m$th positive MoA response for the $n$th 'sigid'; \n",
    "\n",
    "$y_{i,m}$ is the groundtruth of the $m$th positive MoA response for the $n$th 'sigid', 1 for a positive response, 0 otherwise; \n",
    "\n",
    "${\\rm log}(.)$ is the natural (base e) logarithm.\n",
    "\n",
    "According to the [Extreme Value Thereom][1], Constraint (1b) indicates Eq. (1) has absolute maximum and minimum values. We apply the [Lagrange Multiplier][2] method to this optimsiation problem. The new optimisation problem is expressed as follows:\n",
    "\n",
    "$$\n",
    "\\begin{align}\n",
    "\\min_{w_{1}, w_{2},..., w_{K}} \\quad &L = -\\frac{1}{NM}\\sum_{m=1}^{M}\\sum_{i=1}^{N}\\left[ y_{i,m}{\\rm log}\\left( \\sum_{k=1}^{K}w_{k}\\hat{y}_{i,m,k} \\right) + \\left( 1 - y_{i,m} \\right) {\\rm log}\\left( 1 - \\sum_{k=1}^{K}w_{k}\\hat{y}_{i,m,k} \\right) \\right] - \\lambda\\left(\\sum_{k=1}^{K}w_{k} - 1\\right), \\qquad {\\rm (2)} \\\\\n",
    "s.t. \\quad &0 \\leqslant w_{k} \\leqslant 1, \\quad k = 1, ..., K, \\qquad {\\rm (2b)}\n",
    "\\end{align}\n",
    "$$\n",
    "\n",
    "where $\\lambda$ is the Lagrange multiplier.\n",
    "\n",
    "The [Karush–Kuhn–Tucker condition][3] for the optimal solution is:\n",
    "$$\n",
    "\\left\\{\\begin{matrix}\n",
    "\\frac{\\partial L}{\\partial w_{k}} = 0, & k = 1, ..., K, \\\\ \n",
    "\\frac{\\partial L}{\\partial \\lambda} = 0, & \n",
    "\\end{matrix}\\right., \\qquad {\\rm (3)}\n",
    "$$\n",
    "\n",
    "From Eq. (3), we end up with $K+1$ equations that equal zero, we can simply use [autograd][4] to calculate the partial derivatives and [scipy.optimize.fsolve][5] to get the optimal solution.\n",
    "\n",
    "[1]: https://en.wikipedia.org/wiki/Extreme_value_theorem\n",
    "[2]: https://en.wikipedia.org/wiki/Lagrange_multiplier\n",
    "[3]: https://en.wikipedia.org/wiki/Karush%E2%80%93Kuhn%E2%80%93Tucker_conditions\n",
    "[4]: https://github.com/HIPS/autograd\n",
    "[5]: https://docs.scipy.org/doc/scipy/reference/generated/scipy.optimize.fsolve.html"
   ],
   "metadata": {
    "papermill": {
     "duration": 0.017545,
     "end_time": "2020-11-08T17:02:08.591056",
     "exception": false,
     "start_time": "2020-11-08T17:02:08.573511",
     "status": "completed"
    },
    "tags": []
   }
  },
  {
   "cell_type": "code",
   "execution_count": 11,
   "source": [
    "# def Lagrange_func(params):\n",
    "#     w1, w2, w3, _lambda = params\n",
    "#     oof_blend = w1 * oof[0] + w2 * oof[1] + w3 * oof[2]\n",
    "#     return log_loss_numpy(oof_blend) - _lambda * (w1 + w2 + w3 - 1) "
   ],
   "outputs": [],
   "metadata": {
    "execution": {
     "iopub.execute_input": "2020-11-08T17:02:08.632351Z",
     "iopub.status.busy": "2020-11-08T17:02:08.631663Z",
     "iopub.status.idle": "2020-11-08T17:02:08.634570Z",
     "shell.execute_reply": "2020-11-08T17:02:08.633883Z"
    },
    "papermill": {
     "duration": 0.025017,
     "end_time": "2020-11-08T17:02:08.634674",
     "exception": false,
     "start_time": "2020-11-08T17:02:08.609657",
     "status": "completed"
    },
    "tags": []
   }
  },
  {
   "cell_type": "code",
   "execution_count": 12,
   "source": [
    "# grad_L = grad(Lagrange_func)"
   ],
   "outputs": [],
   "metadata": {
    "execution": {
     "iopub.execute_input": "2020-11-08T17:02:08.675007Z",
     "iopub.status.busy": "2020-11-08T17:02:08.674399Z",
     "iopub.status.idle": "2020-11-08T17:02:08.677582Z",
     "shell.execute_reply": "2020-11-08T17:02:08.677058Z"
    },
    "papermill": {
     "duration": 0.024681,
     "end_time": "2020-11-08T17:02:08.677685",
     "exception": false,
     "start_time": "2020-11-08T17:02:08.653004",
     "status": "completed"
    },
    "tags": []
   }
  },
  {
   "cell_type": "code",
   "execution_count": 13,
   "source": [
    "# def Lagrange_obj(params):\n",
    "#     w1, w2, w3, _lambda = params\n",
    "#     dLdw1, dLdw2, dLdw3, dLdlam = grad_L(params)\n",
    "#     return [dLdw1, dLdw2, dLdw3, w1 + w2 + w3 - 1]"
   ],
   "outputs": [],
   "metadata": {
    "execution": {
     "iopub.execute_input": "2020-11-08T17:02:08.717784Z",
     "iopub.status.busy": "2020-11-08T17:02:08.717151Z",
     "iopub.status.idle": "2020-11-08T17:02:08.720182Z",
     "shell.execute_reply": "2020-11-08T17:02:08.719482Z"
    },
    "papermill": {
     "duration": 0.024251,
     "end_time": "2020-11-08T17:02:08.720284",
     "exception": false,
     "start_time": "2020-11-08T17:02:08.696033",
     "status": "completed"
    },
    "tags": []
   }
  },
  {
   "cell_type": "code",
   "execution_count": 14,
   "source": [
    "# start_time = time()\n",
    "# w1, w2, w3, _lambda = fsolve(Lagrange_obj, [0.3, 0.3, 0.4, 1.0])\n",
    "# print(f'[{str(datetime.timedelta(seconds = time() - start_time))[2:7]}] Optimised Weights:', [w1, w2, w3])\n",
    "# oof_b = w1 * oof[0] + w2 * oof[1] + w3 * oof[2]\n",
    "# print('Optimised Blend OOF:', log_loss_numpy(oof_b))"
   ],
   "outputs": [],
   "metadata": {
    "execution": {
     "iopub.execute_input": "2020-11-08T17:02:08.761141Z",
     "iopub.status.busy": "2020-11-08T17:02:08.760514Z",
     "iopub.status.idle": "2020-11-08T17:02:08.763068Z",
     "shell.execute_reply": "2020-11-08T17:02:08.762490Z"
    },
    "papermill": {
     "duration": 0.023909,
     "end_time": "2020-11-08T17:02:08.763162",
     "exception": false,
     "start_time": "2020-11-08T17:02:08.739253",
     "status": "completed"
    },
    "tags": []
   }
  },
  {
   "cell_type": "code",
   "execution_count": 15,
   "source": [
    "# print('Check Condition (1a):', w1 + w2 + w3)\n",
    "# if w1 + w2 + w3 - 1 <= tol:\n",
    "#     print('Great! The sum of all weights equals to 1!')\n",
    "# else:\n",
    "#     print('Manual adjustion is needed to modify the weights.')"
   ],
   "outputs": [],
   "metadata": {
    "execution": {
     "iopub.execute_input": "2020-11-08T17:02:08.805651Z",
     "iopub.status.busy": "2020-11-08T17:02:08.805058Z",
     "iopub.status.idle": "2020-11-08T17:02:08.807268Z",
     "shell.execute_reply": "2020-11-08T17:02:08.807812Z"
    },
    "papermill": {
     "duration": 0.025624,
     "end_time": "2020-11-08T17:02:08.807915",
     "exception": false,
     "start_time": "2020-11-08T17:02:08.782291",
     "status": "completed"
    },
    "tags": []
   }
  }
 ],
 "metadata": {
  "kernelspec": {
   "display_name": "Python 3",
   "language": "python",
   "name": "python3"
  },
  "language_info": {
   "codemirror_mode": {
    "name": "ipython",
    "version": 3
   },
   "file_extension": ".py",
   "mimetype": "text/x-python",
   "name": "python",
   "nbconvert_exporter": "python",
   "pygments_lexer": "ipython3",
   "version": "3.7.6"
  },
  "papermill": {
   "duration": 40.737387,
   "end_time": "2020-11-08T17:02:08.933181",
   "environment_variables": {},
   "exception": null,
   "input_path": "__notebook__.ipynb",
   "output_path": "__notebook__.ipynb",
   "parameters": {},
   "start_time": "2020-11-08T17:01:28.195794",
   "version": "2.1.0"
  }
 },
 "nbformat": 4,
 "nbformat_minor": 4
}